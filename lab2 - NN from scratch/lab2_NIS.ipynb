{
 "cells":[
  {
   "cell_type":"markdown",
   "source":[
    "Нужно решить задачу классификации рукописных цифр на датасете mnist https:\/\/www.kaggle.com\/datasets\/hojjatk\/mnist-dataset . Правила будут следующие:\n",
    "- нужно представить решение в виде нейронной сети, написанной на numpy, и обученной с помощью алгоритма градиентного спуска.\n",
    "- нейронная сеть должна состоять из двух линейных слоев, активаций relu и softmax, и mse лосса.\n",
    "- нельзя пользоваться автоградиентом (pytorch, numpy). Градиенты должны считаться вручную по алгоритму обратного распространения ошибки, используя аналитические формулы производных.\n",
    "- решение считается валидным, если оно достигает аккураси больше 50%.\n",
    "- я не против, если в этой домашке вам будет помогать чат гпт.\n",
    "Критерии оценивания:\n",
    "- нейронная сеть содержит два линейных слоя, активации релу и софтмакс, производные посчитаны без ошибок - 10 баллов\n",
    "- за каждый неимплементированный слой вычитается 1 балл\n",
    "- в качестве простого варианта, на 6 баллов можно сделать реализацию просто одного линейного слоя, обученного без градиентного спуска любым методом оптимизации в scipy.optimize.minimize"
   ],
   "attachments":{},
   "metadata":{
    "datalore":{
     "node_id":"1e9H8DEfVCHslTUntwsecg",
     "type":"MD",
     "hide_input_from_viewers":true,
     "hide_output_from_viewers":true
    }
   }
  },
  {
   "cell_type":"code",
   "source":[
    "import matplotlib.pyplot as plt\n",
    "import numpy as np\n",
    "\n",
    "import torchvision\n",
    "import torch"
   ],
   "execution_count":1,
   "outputs":[
    {
     "name":"stderr",
     "text":[
      "\/opt\/python\/envs\/default\/lib\/python3.8\/site-packages\/torchvision\/io\/image.py:13: UserWarning: Failed to load image Python extension: 'libc10_hip.so: cannot open shared object file: No such file or directory'If you don't plan on using image functionality from `torchvision.io`, you can ignore this warning. Otherwise, there might be something wrong with your environment. Did you have `libjpeg` or `libpng` installed before building `torchvision` from source?\n",
      "  warn(\n"
     ],
     "output_type":"stream"
    }
   ],
   "metadata":{
    "datalore":{
     "node_id":"DMMHYCkyrmQBpmJFhVp9TZ",
     "type":"CODE",
     "hide_input_from_viewers":true,
     "hide_output_from_viewers":true
    }
   }
  },
  {
   "cell_type":"code",
   "source":[
    "# преобразования над датасетом\n",
    "transforms = torchvision.transforms.Compose([\n",
    "    torchvision.transforms.ToTensor(),\n",
    "    torchvision.transforms.Normalize(mean=(0.1307,), std=(0.3081,))\n",
    "])\n",
    "\n",
    "# датасет\n",
    "data_train = torchvision.datasets.MNIST(root=\".\/data\/notebook_files\/\",\n",
    "                                        train=True,\n",
    "                                        download=True,\n",
    "                                        transform=transforms\n",
    "                                       )\n",
    "\n",
    "# загрузчик данных для обучения\n",
    "train_loader = torch.utils.data.DataLoader(dataset=data_train,\n",
    "                                           batch_size=20,\n",
    "                                           num_workers=5,\n",
    "                                           pin_memory=True\n",
    "                                          )"
   ],
   "execution_count":3,
   "outputs":[
    {
     "name":"stdout",
     "text":[
      "Downloading http:\/\/yann.lecun.com\/exdb\/mnist\/train-images-idx3-ubyte.gz\n",
      "Downloading http:\/\/yann.lecun.com\/exdb\/mnist\/train-images-idx3-ubyte.gz to .\/data\/notebook_files\/MNIST\/raw\/train-images-idx3-ubyte.gz\n",
      "Extracting .\/data\/notebook_files\/MNIST\/raw\/train-images-idx3-ubyte.gz to .\/data\/notebook_files\/MNIST\/raw\n",
      "\n",
      "Downloading http:\/\/yann.lecun.com\/exdb\/mnist\/train-labels-idx1-ubyte.gz\n",
      "Downloading http:\/\/yann.lecun.com\/exdb\/mnist\/train-labels-idx1-ubyte.gz to .\/data\/notebook_files\/MNIST\/raw\/train-labels-idx1-ubyte.gz\n",
      "Extracting .\/data\/notebook_files\/MNIST\/raw\/train-labels-idx1-ubyte.gz to .\/data\/notebook_files\/MNIST\/raw\n",
      "\n",
      "Downloading http:\/\/yann.lecun.com\/exdb\/mnist\/t10k-images-idx3-ubyte.gz\n",
      "Downloading http:\/\/yann.lecun.com\/exdb\/mnist\/t10k-images-idx3-ubyte.gz to .\/data\/notebook_files\/MNIST\/raw\/t10k-images-idx3-ubyte.gz\n",
      "Extracting .\/data\/notebook_files\/MNIST\/raw\/t10k-images-idx3-ubyte.gz to .\/data\/notebook_files\/MNIST\/raw\n",
      "\n",
      "Downloading http:\/\/yann.lecun.com\/exdb\/mnist\/t10k-labels-idx1-ubyte.gz\n",
      "Downloading http:\/\/yann.lecun.com\/exdb\/mnist\/t10k-labels-idx1-ubyte.gz to .\/data\/notebook_files\/MNIST\/raw\/t10k-labels-idx1-ubyte.gz\n",
      "Extracting .\/data\/notebook_files\/MNIST\/raw\/t10k-labels-idx1-ubyte.gz to .\/data\/notebook_files\/MNIST\/raw\n",
      "\n"
     ],
     "output_type":"stream"
    },
    {
     "name":"stderr",
     "text":[
      "\r  0%|          | 0\/9912422 [00:00<?, ?it\/s]\r 58%|█████▊    | 5767168\/9912422 [00:00<00:00, 57588941.37it\/s]\r100%|██████████| 9912422\/9912422 [00:00<00:00, 68058832.02it\/s]\n",
      "\r  0%|          | 0\/28881 [00:00<?, ?it\/s]\r100%|██████████| 28881\/28881 [00:00<00:00, 26146275.38it\/s]\n",
      "\r  0%|          | 0\/1648877 [00:00<?, ?it\/s]\r100%|██████████| 1648877\/1648877 [00:00<00:00, 21497150.86it\/s]\n",
      "\r  0%|          | 0\/4542 [00:00<?, ?it\/s]\r100%|██████████| 4542\/4542 [00:00<00:00, 5850899.50it\/s]\n",
      "\/opt\/python\/envs\/default\/lib\/python3.8\/site-packages\/torch\/utils\/data\/dataloader.py:560: UserWarning: This DataLoader will create 5 worker processes in total. Our suggested max number of worker in current system is 2, which is smaller than what this DataLoader is going to create. Please be aware that excessive worker creation might get DataLoader running slow or even freeze, lower the worker number to avoid potential slowness\/freeze if necessary.\n",
      "  warnings.warn(_create_warning_msg(\n"
     ],
     "output_type":"stream"
    }
   ],
   "metadata":{
    "datalore":{
     "node_id":"3eLpS8PXB6pqJhhWnjSBL3",
     "type":"CODE",
     "hide_input_from_viewers":true,
     "hide_output_from_viewers":true
    }
   }
  },
  {
   "cell_type":"code",
   "source":[
    "data_train"
   ],
   "execution_count":4,
   "outputs":[
    {
     "data":{
      "text\/plain":[
       "Dataset MNIST\n",
       "    Number of datapoints: 60000\n",
       "    Root location: .\/data\/notebook_files\/\n",
       "    Split: Train\n",
       "    StandardTransform\n",
       "Transform: Compose(\n",
       "               ToTensor()\n",
       "               Normalize(mean=(0.1307,), std=(0.3081,))\n",
       "           )"
      ]
     },
     "metadata":{},
     "output_type":"display_data"
    }
   ],
   "metadata":{
    "datalore":{
     "node_id":"U4DQqRXybvVyPDeA9paWRr",
     "type":"CODE",
     "hide_input_from_viewers":true,
     "hide_output_from_viewers":true
    }
   }
  },
  {
   "cell_type":"code",
   "source":[
    "plt.imshow(data_train[0][0].reshape((28, 28, 1)), cmap='gray') # построение изображения\n",
    "plt.show()"
   ],
   "execution_count":7,
   "outputs":[
    {
     "data":{
      "image\/png":"[encoded data removed]"
     },
     "metadata":{
      "image\/png":{}
     },
     "output_type":"display_data"
    }
   ],
   "metadata":{
    "datalore":{
     "node_id":"8lQB7hrmCq0CYRMBNw61o3",
     "type":"CODE",
     "hide_input_from_viewers":true,
     "hide_output_from_viewers":true
    }
   }
  },
  {
   "cell_type":"code",
   "source":[
    "class CrossEntropyLoss:\n",
    "    def __init__(self):\n",
    "        self.loss = None\n",
    "        self.grad = None\n",
    "        self.p_pred = None\n",
    "        self.p_true = None\n",
    "        self.batch_size = 1\n",
    "        self.classes = 1\n",
    "\n",
    "    def calc_loss(self, p_pred, p_true) -> np.float64:\n",
    "        self.batch_size = p_true.shape[0]\n",
    "        self.classes = p_true.shape[1]\n",
    "        loss = 0.0\n",
    "\n",
    "        p_pred[p_pred==0.0] = 0.000001\n",
    "        p_pred[p_pred==1.0] = 0.999999\n",
    "        p_true[p_true==0.0] = 0.000001\n",
    "        p_true[p_true==1.0] = 0.999999\n",
    "\n",
    "        for batch in range(self.batch_size):\n",
    "            loss += np.matmul(p_true[batch], np.log(p_pred[batch]))\n",
    "        loss = - loss \/ self.batch_size\n",
    "\n",
    "        self.loss = loss\n",
    "        self.grad = np.zeros(shape=(self.batch_size, self.classes))\n",
    "        self.p_pred = p_pred\n",
    "        self.p_true = p_true\n",
    "        return loss\n",
    "    \n",
    "\n",
    "    def backward(self) -> np.ndarray:\n",
    "        for batch in range(self.batch_size):\n",
    "            self.grad[batch] = -(self.p_true[batch]\/self.p_pred[batch]) + (1-self.p_true[batch])\/(1-self.p_pred[batch])\n",
    "        return self.grad"
   ],
   "execution_count":8,
   "outputs":[],
   "metadata":{
    "datalore":{
     "node_id":"sOMj2m7o1QMww2vMGrVZLP",
     "type":"CODE",
     "hide_input_from_viewers":true,
     "hide_output_from_viewers":true
    }
   }
  },
  {
   "cell_type":"code",
   "source":[
    "class ReLU():\n",
    "    def __init__(self):\n",
    "        self.prev_input = None\n",
    "\n",
    "\n",
    "    def forward(self, x: np.ndarray) -> np.ndarray:\n",
    "        self.prev_input = x.copy()\n",
    "        x[x<0] = 0.0\n",
    "        return x\n",
    "    \n",
    "\n",
    "    def backward(self, grad: np.ndarray) -> np.ndarray:\n",
    "        grad[self.prev_input < 0] = 0\n",
    "        return grad"
   ],
   "execution_count":12,
   "outputs":[],
   "metadata":{
    "datalore":{
     "node_id":"n7AjAqW1CaOwy4eg3hR1OE",
     "type":"CODE",
     "hide_input_from_viewers":true,
     "hide_output_from_viewers":true
    }
   }
  },
  {
   "cell_type":"code",
   "source":[
    "class Softmax():\n",
    "    def __init__(self):\n",
    "        self.prev_input = None\n",
    "        self.prev_out = None\n",
    "\n",
    "\n",
    "    def forward(self, x: np.ndarray) -> np.ndarray:\n",
    "        prob = np.exp(x)\n",
    "\n",
    "        for batch in range(prob.shape[0]):\n",
    "            prob[batch] = prob[batch] \/ prob[batch].sum()\n",
    "        self.prev_out = prob.copy()\n",
    "        return prob\n",
    "    \n",
    "    def backward(self, grad: np.ndarray) -> np.ndarray:\n",
    "        return grad * self.prev_out * (1 - self.prev_out)"
   ],
   "execution_count":13,
   "outputs":[],
   "metadata":{
    "datalore":{
     "node_id":"JsdeuGSeAYkwwLw4UqsCDu",
     "type":"CODE",
     "hide_input_from_viewers":true,
     "hide_output_from_viewers":true
    }
   }
  },
  {
   "cell_type":"code",
   "source":[
    "class Linear:\n",
    "    def __init__(self, in_features, out_features):\n",
    "        self.in_features = in_features\n",
    "        self.out_features = out_features\n",
    "\n",
    "        self.prev_input = None\n",
    "\n",
    "        self.W = np.random.uniform(low=-0.5, high=0.5, size=(in_features, out_features))\n",
    "        self.bias = np.random.uniform(low=-0.5, high=0.5, size=(out_features))\n",
    "\n",
    "\n",
    "    def forward(self, x):\n",
    "        self.prev_input = x.copy()\n",
    "\n",
    "        res = np.matmul(x, self.W)\n",
    "        res = np.add(res, self.bias)\n",
    "        return res\n",
    "        \n",
    "    \n",
    "    def backward(self, grad: np.ndarray, lr: np.float64=0.0001):\n",
    "        grad_W = np.matmul(self.prev_input.T, grad)\n",
    "\n",
    "        self.W = self.W - lr * grad_W\n",
    "\n",
    "        grad_b = grad\n",
    "        self.bias = self.bias - lr * grad_b.sum(axis=0)\/grad_b.shape[0]\n",
    "        \n",
    "        grad = np.matmul(grad, self.W.T)\n",
    "\n",
    "        return grad "
   ],
   "execution_count":25,
   "outputs":[],
   "metadata":{
    "datalore":{
     "node_id":"xJb0dDF1RNkP1YTa5Ojm8N",
     "type":"CODE",
     "hide_input_from_viewers":true,
     "hide_output_from_viewers":true
    }
   }
  },
  {
   "cell_type":"code",
   "source":[
    "class CustomNetwork():\n",
    "    def __init__(self, in_features, out_features):\n",
    "        self.linear1 = Linear(in_features, int(in_features\/4))\n",
    "        self.activation = ReLU()\n",
    "        self.linear2 = Linear(int(in_features\/4), 10)\n",
    "        self.softmax = Softmax()\n",
    "        self.layers = []\n",
    "        self.layers.append(self.linear1)\n",
    "        self.layers.append(self.activation)\n",
    "        self.layers.append(self.linear2)\n",
    "        self.layers.append(self.softmax)\n",
    "\n",
    "\n",
    "    def forward(self, x: np.ndarray) -> np.ndarray:\n",
    "        x = x.reshape(x.shape[0], x.shape[1]*x.shape[2]*x.shape[3])\n",
    "        for layer in self.layers:\n",
    "            x = layer.forward(x)\n",
    "        return x\n",
    "    \n",
    "\n",
    "    def backward(self, grad) -> None:\n",
    "        for layer in reversed(self.layers):\n",
    "            grad = layer.backward(grad)"
   ],
   "execution_count":32,
   "outputs":[],
   "metadata":{
    "datalore":{
     "node_id":"pLeV5BR81uxKtlFapUGqib",
     "type":"CODE",
     "hide_input_from_viewers":true,
     "hide_output_from_viewers":true
    }
   }
  },
  {
   "cell_type":"code",
   "source":[
    "def train(model, epochs: np.int64, train_loader, loss_func, num_classes: np.int64) -> list:\n",
    "    losses = [0.0] * epochs\n",
    "    for epoch in range(epochs):\n",
    "        for batch_idx, (data, target) in enumerate(train_loader):\n",
    "            p_true = np.zeros(shape=(train_loader.batch_size, num_classes))\n",
    "            target  = target.numpy()\n",
    "            for batch, t in enumerate(target):\n",
    "                p_true[batch][t] = 1.0\n",
    "\n",
    "            data = data.numpy()\n",
    "\n",
    "            p_pred = model.forward(data)\n",
    "\n",
    "            loss = loss_func.calc_loss(p_pred, p_true)\n",
    "            losses[epoch] += loss\/len(train_loader)\n",
    "\n",
    "            grad = loss_func.backward()\n",
    "            model.backward(grad)\n",
    "        print(f\"loss on epoch {epoch+1}:\\t {losses[epoch]}\")\n",
    "    return losses"
   ],
   "execution_count":33,
   "outputs":[],
   "metadata":{
    "datalore":{
     "node_id":"t0Lunk2TYkTs5jchDEyiWL",
     "type":"CODE",
     "hide_input_from_viewers":true,
     "hide_output_from_viewers":true
    }
   }
  },
  {
   "cell_type":"code",
   "source":[
    "num_classes = 10\n",
    "epochs = 20\n",
    "model = CustomNetwork(in_features=np.prod(data_train[0][0].shape), out_features=num_classes)\n",
    "loss_func = CrossEntropyLoss()\n",
    "losses = train(model=model, epochs=epochs, train_loader=train_loader, loss_func=loss_func, num_classes=num_classes)"
   ],
   "execution_count":34,
   "outputs":[
    {
     "name":"stdout",
     "text":[
      "loss on epoch 1:\t 2.6380331034152253\n",
      "loss on epoch 2:\t 1.011849330571753\n",
      "loss on epoch 3:\t 0.7349360052502075\n",
      "loss on epoch 4:\t 0.5871664277773986\n",
      "loss on epoch 5:\t 0.4928736986717646\n",
      "loss on epoch 6:\t 0.4268810127813011\n",
      "loss on epoch 7:\t 0.3779582184075165\n",
      "loss on epoch 8:\t 0.3400713115032216\n",
      "loss on epoch 9:\t 0.3096388908423677\n",
      "loss on epoch 10:\t 0.2846235510553983\n",
      "loss on epoch 11:\t 0.2637072138038387\n",
      "loss on epoch 12:\t 0.2459514360380574\n",
      "loss on epoch 13:\t 0.2307106451172708\n",
      "loss on epoch 14:\t 0.21743444204195353\n",
      "loss on epoch 15:\t 0.2057736938746618\n",
      "loss on epoch 16:\t 0.1954657812644416\n",
      "loss on epoch 17:\t 0.18629980230381915\n",
      "loss on epoch 18:\t 0.17812990267322323\n",
      "loss on epoch 19:\t 0.17079311818929008\n",
      "loss on epoch 20:\t 0.16413475183108678\n"
     ],
     "output_type":"stream"
    }
   ],
   "metadata":{
    "datalore":{
     "node_id":"s8O4MMNCIMvj6nOLtPepkx",
     "type":"CODE",
     "hide_input_from_viewers":true,
     "hide_output_from_viewers":true
    }
   }
  },
  {
   "cell_type":"code",
   "source":[
    "plt.figure(figsize=(10,10))\n",
    "plt.title(\"Изменение Cross-Entropy Loss в зависимости от эпохи обучения\")\n",
    "plt.plot(range(1, epochs+1), losses, label=\"Cross-Entropy Loss\")\n",
    "plt.xlabel(\"Эпоха\")\n",
    "plt.ylabel(\"Значение loss функции\")\n",
    "plt.legend()\n",
    "plt.show()"
   ],
   "execution_count":35,
   "outputs":[
    {
     "data":{
      "image\/png":"[encoded data removed]"
     },
     "metadata":{
      "image\/png":{}
     },
     "output_type":"display_data"
    }
   ],
   "metadata":{
    "datalore":{
     "node_id":"d6tLWnn7yQgxgAIQProNsU",
     "type":"CODE",
     "hide_input_from_viewers":true,
     "hide_output_from_viewers":true
    }
   }
  },
  {
   "cell_type":"code",
   "source":[
    "def evaluate_accuracy(model, eval_loader) -> float:\n",
    "    samples_num = len(eval_loader.dataset)\n",
    "    labels_true = []\n",
    "    labels_pred = []\n",
    "    \n",
    "    for batch_idx, (data, target) in enumerate(eval_loader):\n",
    "        target  = target.numpy()\n",
    "        for t in target:\n",
    "            labels_true.append(t)\n",
    "\n",
    "        data = data.numpy()\n",
    "\n",
    "        preds = model.forward(data)\n",
    "        preds = preds.argmax(axis=-1)\n",
    "        for pred in preds:\n",
    "            labels_pred.append(pred)\n",
    "    \n",
    "    correct_predictions = 0\n",
    "    all_predictions = samples_num\n",
    "    for i in range(samples_num):\n",
    "        if labels_pred[i] == labels_true[i]:\n",
    "            correct_predictions += 1\n",
    "    accuracy = correct_predictions\/all_predictions\n",
    "    return accuracy"
   ],
   "execution_count":41,
   "outputs":[],
   "metadata":{
    "datalore":{
     "node_id":"jzk0ds0tUOGpBXGsKEV4p1",
     "type":"CODE",
     "hide_input_from_viewers":true,
     "hide_output_from_viewers":true
    }
   }
  },
  {
   "cell_type":"code",
   "source":[
    "evaluate_accuracy(model=model, eval_loader=train_loader)"
   ],
   "execution_count":43,
   "outputs":[
    {
     "data":{
      "text\/plain":[
       "0.957"
      ]
     },
     "metadata":{},
     "output_type":"display_data"
    }
   ],
   "metadata":{
    "datalore":{
     "node_id":"SjwkG78Zd2ALyMA5eBbC96",
     "type":"CODE",
     "hide_input_from_viewers":true,
     "hide_output_from_viewers":true
    }
   }
  }
 ],
 "metadata":{
  "kernelspec":{
   "display_name":"Python",
   "language":"python",
   "name":"python"
  },
  "datalore":{
   "computation_mode":"JUPYTER",
   "package_manager":"pip",
   "base_environment":"default",
   "packages":[
    {
     "name":"mnist",
     "source":"PIP"
    }
   ],
   "report_row_ids":[],
   "version":3
  }
 },
 "nbformat":4,
 "nbformat_minor":4
}